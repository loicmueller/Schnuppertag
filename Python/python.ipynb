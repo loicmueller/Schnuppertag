{
 "cells": [
  {
   "cell_type": "markdown",
   "id": "544e4154-6ea8-44fa-8886-9e9bea087b66",
   "metadata": {},
   "source": [
    "# Einführung in Python\n",
    "\n",
    "Willkommen bei der Einführung in Python! Python ist eine leicht zu erlernende Programmiersprache mit einer aktiven Community und vielen verfügbaren Bibliotheken. In dieser Einführung werden wir einige grundlegende Konzepte in Python kennenlernen.\n",
    "\n",
    "## Variablen\n",
    "\n",
    "Eine der grundlegenden Konzepte in jeder Programmiersprache sind Variablen. Variablen sind Namen, die mit einem bestimmten Wert verknüpft sind. Hier ist ein Beispiel:\n"
   ]
  },
  {
   "cell_type": "code",
   "execution_count": 3,
   "id": "6a2c8f20-ed93-4509-b711-85aeb6e8c23b",
   "metadata": {},
   "outputs": [
    {
     "name": "stdout",
     "output_type": "stream",
     "text": [
      "Hello, my name is loic\n"
     ]
    }
   ],
   "source": [
    "name = \"loic\"\n",
    "print(\"Hello, my name is\", name)"
   ]
  },
  {
   "cell_type": "markdown",
   "id": "3932aa3f-0377-40b6-8da9-6c089f5ee7cd",
   "metadata": {},
   "source": [
    "# Datentypen\n",
    "\n",
    "In Python gibt es verschiedene Datentypen, die verwendet werden können, um verschiedene\n",
    "Arten von Daten zu speichern. Hier sind einige der häufigsten Datentypen:\n",
    "\n",
    "• `int`: Integer-Datentyp, verwendet für ganze Zahlen (z. B. 42)  \n",
    "• `float`(Fliesskommazahl): FließkommazahI-Datentyp, verwendet für reelle Zahlen (z. B. 3.14)  \n",
    "• `str`(String): Zeichenketten-Datentyp, verwendet für Texte (z. B. \"Hello, World!\")  \n",
    "• `bool`(Boolean): Boolescher Datentyp, verwendet für Wahrheitswerte (True oder False)\n",
    "\n",
    "Sie können eine Variable zuweisen und ihren Datentyp überprüfen, indem Sie\n",
    "`type()` verwenden:"
   ]
  },
  {
   "cell_type": "code",
   "execution_count": 9,
   "id": "f55a001c-0fa7-4fac-80ef-bfcccf84f884",
   "metadata": {},
   "outputs": [
    {
     "name": "stdout",
     "output_type": "stream",
     "text": [
      "<class 'int'>\n",
      "<class 'float'>\n",
      "<class 'str'>\n",
      "<class 'bool'>\n"
     ]
    }
   ],
   "source": [
    "a = 42\n",
    "print(type(a)) # <class 'int'>\n",
    "\n",
    "b = 3.14\n",
    "print(type(b)) # <class 'float'>\n",
    "\n",
    "c = \"Hello, World!\"\n",
    "print(type(c)) # <class 'str'>\n",
    "\n",
    "d = True\n",
    "print(type(d)) # <class 'bool'>"
   ]
  },
  {
   "cell_type": "markdown",
   "id": "1dba715f-77aa-428d-bc83-4c51d38f0ada",
   "metadata": {},
   "source": [
    "# Operatoren\n",
    "\n",
    "In Python gibt es verschiedene Arten von Operatoren, die Sie verwenden können, um mathematische und logische Operationen auszuführen. Hier sind einige der häufigsten Operatoren:\n",
    "\n",
    "`+`: Addition  \n",
    "`-`: Subtraktion  \n",
    "`*`: Multiplikation  \n",
    "`/`: Division  \n",
    "`%`: Modulo (Rest einer Division)  \n",
    "`==`: Vergleich auf Gleichheit  \n",
    "`!=`: Vergleich auf Ungleichheit  \n",
    "`<`: Kleiner als  \n",
    "`>`: Größer als  \n",
    "`<=`: Kleiner oder gleich  \n",
    "`>=`: Größer oder gleich  \n",
    "\n",
    "Sie können die Operatoren wie folgt verwenden:"
   ]
  },
  {
   "cell_type": "code",
   "execution_count": 10,
   "id": "e0b5c9dc-2212-4195-b5fd-63cf956db52e",
   "metadata": {},
   "outputs": [
    {
     "name": "stdout",
     "output_type": "stream",
     "text": [
      "a + b = 30\n",
      "b - a = 10\n",
      "a * b = 200\n",
      "b / a = 2.0\n",
      "b % a = 0\n",
      "a == b is False\n",
      "a != b is True\n",
      "a < b is True\n"
     ]
    }
   ],
   "source": [
    "a = 10\n",
    "b = 20\n",
    "\n",
    "# Addition\n",
    "c = a + b\n",
    "print(\"a + b =\", c)\n",
    "\n",
    "# Subtraktion\n",
    "c = b - a\n",
    "print(\"b - a =\", c)\n",
    "\n",
    "# Multiplikation\n",
    "c = a * b\n",
    "print(\"a * b =\", c)\n",
    "\n",
    "# Division\n",
    "c = b / a\n",
    "print(\"b / a =\", c)\n",
    "\n",
    "# Modulo\n",
    "c = b % a\n",
    "print(\"b % a =\", c)\n",
    "\n",
    "# Vergleich auf Gleichheit\n",
    "c = a == b\n",
    "print(\"a == b is\", c)\n",
    "\n",
    "# Vergleich auf Ungleichheit\n",
    "c = a != b\n",
    "print(\"a != b is\", c)\n",
    "\n",
    "# Kleiner als\n",
    "c = a < b\n",
    "print(\"a < b is\",c)\n"
   ]
  },
  {
   "cell_type": "markdown",
   "id": "f1536cb3-6edc-4a7a-abd9-19833dc4101e",
   "metadata": {},
   "source": [
    "# Eingabe mit `input`\n",
    "\n",
    "Mit `input` können Sie Benutzereingaben erfassen:"
   ]
  },
  {
   "cell_type": "code",
   "execution_count": 10,
   "id": "5cb70ced-c784-4ff8-b31b-0390952319fa",
   "metadata": {},
   "outputs": [
    {
     "name": "stdout",
     "output_type": "stream",
     "text": [
      "Hello, looic!\n"
     ]
    }
   ],
   "source": [
    "name = input(\"What's your name? \")\n",
    "print(\"Hello, \" + name + \"!\")\n"
   ]
  },
  {
   "cell_type": "markdown",
   "id": "8c132b62-be0a-43d5-b591-03369e47a2a3",
   "metadata": {},
   "source": [
    "# Bedingungen\n",
    "\n",
    "Mit Bedingungen können Sie bestimmen, ob bestimmte Aktionen ausgeführt werden sollen, je nachdem, ob bestimmte Bedingungen erfüllt sind:"
   ]
  },
  {
   "cell_type": "code",
   "execution_count": 15,
   "id": "fb2732d5-6eb1-4e3d-bc50-356fa033b361",
   "metadata": {},
   "outputs": [
    {
     "name": "stdout",
     "output_type": "stream",
     "text": [
      "x ist positiv\n"
     ]
    }
   ],
   "source": [
    "x = 42\n",
    "\n",
    "if x > 0:\n",
    "  print(\"x ist positiv\")\n",
    "else:\n",
    "  print(\"x ist negativ oder Null\")\n"
   ]
  },
  {
   "cell_type": "markdown",
   "id": "48a8d1e3-e70d-4037-a3ab-594ebc61f24f",
   "metadata": {},
   "source": [
    "# Schleifen in Python\n",
    "\n",
    "\n",
    "In Python gibt es zwei Hauptarten von Schleifen: `for`-Schleifen und `while`-Schleifen.\n",
    "## For-Schleifen\n",
    "\n",
    "`For`-Schleifen\n",
    "For-Schleifen werden verwendet, um eine Sequenz von Werten zu iterieren, wie z.B. eine Liste oder einen String. Hier ist ein Beispiel, wie man eine Liste von Zahlen verwendet, um deren Quadrate zu berechnen:"
   ]
  },
  {
   "cell_type": "code",
   "execution_count": 12,
   "id": "e667a42f-f2fe-4a00-80ff-4be5c9a6746b",
   "metadata": {},
   "outputs": [
    {
     "name": "stdout",
     "output_type": "stream",
     "text": [
      "1 squared is 1\n",
      "2 squared is 4\n",
      "3 squared is 9\n",
      "4 squared is 16\n",
      "5 squared is 25\n"
     ]
    }
   ],
   "source": [
    "numbers = [1, 2, 3, 4, 5]\n",
    "\n",
    "for number in numbers:\n",
    "    square = number**2\n",
    "\n",
    "    # convert ints to strings\n",
    "    square = str(square)\n",
    "    number = str(number)\n",
    "    \n",
    "    print(number + \" squared is \" + square)\n"
   ]
  },
  {
   "cell_type": "markdown",
   "id": "8a64ec94-cbe3-4fa5-9ce1-5a67fec686ab",
   "metadata": {},
   "source": [
    "In diesem Beispiel wird eine Liste von Zahlen definiert und in jedem Durchlauf der Schleife wird das aktuelle `number` quadriert und das Ergebnis mit einer `print`-Anweisung ausgegeben."
   ]
  },
  {
   "cell_type": "markdown",
   "id": "83f628c0-54a9-4ca6-9d61-67abb5257fbb",
   "metadata": {},
   "source": [
    "## While-Schleifen\n",
    "`While`-Schleifen werden verwendet, um eine bestimmte Bedingung zu erfüllen, solange sie wahr ist. Hier ist ein Beispiel, wie man eine Schleife verwendet, um eine Zählervariable zu erhöhen, bis sie 5 erreicht hat:"
   ]
  },
  {
   "cell_type": "code",
   "execution_count": 6,
   "id": "c6ad222e-eb41-424a-a375-9009909c25d8",
   "metadata": {},
   "outputs": [
    {
     "name": "stdout",
     "output_type": "stream",
     "text": [
      "0\n",
      "1\n",
      "2\n",
      "3\n",
      "4\n"
     ]
    }
   ],
   "source": [
    "counter = 0\n",
    "\n",
    "while counter < 5:\n",
    "    print(counter)\n",
    "    counter += 1\n"
   ]
  },
  {
   "cell_type": "markdown",
   "id": "6de08cd4-6ee0-4a57-9d87-17b74816d878",
   "metadata": {},
   "source": [
    "In diesem Beispiel wird eine Zählervariable definiert und in jedem Durchlauf der Schleife wird sie um 1 erhöht. Die Schleife wird fortgesetzt, solange die Bedingung `counter < 5` wahr ist. In jedem Durchlauf der Schleife wird der aktuelle Wert von `counter` mit einer `print`-Anweisung ausgegeben."
   ]
  },
  {
   "attachments": {},
   "cell_type": "markdown",
   "id": "f3370fc7",
   "metadata": {},
   "source": [
    "# Aufgabe BMI berechnen\n",
    "Das Ziel der Aufgabe ist es, dass der User gefragt wird:  \n",
    "Wie viel wiegen Sie in kg?  \n",
    "> *50*\n",
    "\n",
    "Wie groß sind Sie in Metern?  \n",
    "> *1.60*\n",
    "\n",
    "Ihr BMI beträgt: *`19.53`* Sie sind *`Gesund`*"
   ]
  },
  {
   "cell_type": "code",
   "execution_count": null,
   "id": "597c41d2",
   "metadata": {},
   "outputs": [],
   "source": [
    "# Quiz zur Berechnung des BMI\n",
    "\n",
    "# Schritt 1: Gewicht eingeben\n",
    "weight = float(input(\"Wie viel wiegen Sie in kg? \"))\n",
    "\n",
    "# Schritt 2: Größe eingeben\n",
    "height = float(input(\"Wie groß sind Sie in Metern? \"))\n",
    "\n",
    "# Schritt 3: Berechne den BMI\n",
    "bmi = # fehlt\n",
    "\n",
    "# Schritt 4: Überprüfen Sie den Gewichtsstatus\n",
    "if # fehlt:\n",
    "    status = \"Untergewicht\"\n",
    "elif # fehlt:\n",
    "    status = \"Gesund\"\n",
    "else:\n",
    "    status = \"Übergewicht\"\n",
    "\n",
    "# Schritt 5: Ausgabe des BMI und Gewichtsstatus\n",
    "print(\"Ihr BMI beträgt:\", # fehlt, \"Sie sind\", # fehlt)\n"
   ]
  }
 ],
 "metadata": {
  "kernelspec": {
   "display_name": "Python 3 (ipykernel)",
   "language": "python",
   "name": "python3"
  },
  "language_info": {
   "codemirror_mode": {
    "name": "ipython",
    "version": 3
   },
   "file_extension": ".py",
   "mimetype": "text/x-python",
   "name": "python",
   "nbconvert_exporter": "python",
   "pygments_lexer": "ipython3",
   "version": "3.10.4"
  }
 },
 "nbformat": 4,
 "nbformat_minor": 5
}
